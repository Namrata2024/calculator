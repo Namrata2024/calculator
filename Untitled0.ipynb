{
  "nbformat": 4,
  "nbformat_minor": 0,
  "metadata": {
    "colab": {
      "name": "Untitled0.ipynb",
      "provenance": [],
      "collapsed_sections": []
    },
    "kernelspec": {
      "name": "python3",
      "display_name": "Python 3"
    },
    "language_info": {
      "name": "python"
    }
  },
  "cells": [
    {
      "cell_type": "code",
      "execution_count": 7,
      "metadata": {
        "colab": {
          "base_uri": "https://localhost:8080/"
        },
        "id": "KJhbpn739B-k",
        "outputId": "4650becb-1c69-4d2d-f5bf-54231212b5e2"
      },
      "outputs": [
        {
          "output_type": "stream",
          "name": "stdout",
          "text": [
            "Twinkle Twinkle Little Star,\n",
            "  \"How I wonder what you are!\"\n",
            "    Up above the world so high\n",
            "    Like a diamond in the sky.\n",
            "'Twinkle Twinkle' Little star\n"
          ]
        }
      ],
      "source": [
        "print('Twinkle Twinkle Little Star,')\n",
        "print('  \"How I wonder what you are!\"')\n",
        "print(\"    Up above the world so high\")\n",
        "print(\"    Like a diamond in the sky.\")\n",
        "print(\"'Twinkle Twinkle' Little star\")\n",
        "\n"
      ]
    },
    {
      "cell_type": "code",
      "source": [
        "txt1=\"MY name is {fname}\"\n",
        "print(txt1.format(fname='Namrata'))\n",
        "txt2=\"I scored {:.0%}\"\n",
        "print(txt2.format(0.86))"
      ],
      "metadata": {
        "colab": {
          "base_uri": "https://localhost:8080/"
        },
        "id": "AxeBmYTn-6bD",
        "outputId": "60d19d3e-1d60-4113-ddbe-1dab83010df2"
      },
      "execution_count": 6,
      "outputs": [
        {
          "output_type": "stream",
          "name": "stdout",
          "text": [
            "MY name is Namrata\n",
            "I scored 86%\n"
          ]
        }
      ]
    }
  ]
}